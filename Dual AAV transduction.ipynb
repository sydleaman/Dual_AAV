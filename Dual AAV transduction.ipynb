{
 "cells": [
  {
   "cell_type": "code",
   "execution_count": 3,
   "metadata": {},
   "outputs": [],
   "source": [
    "import pandas as pd\n",
    "import numpy as np\n",
    "import os\n",
    "import seaborn as sns\n",
    "from scipy.stats import poisson\n",
    "import matplotlib.pyplot as plt"
   ]
  },
  {
   "cell_type": "markdown",
   "metadata": {},
   "source": [
    "FYI: I am going to asssume there are n_cells that are expose to a given virus. Some will get more than others and I am representing this variability with a Poisson distribution (to generate count data)... it has been published that ~20 is an appropriate lambda value (i.e. mean number of virions per cell), I will double check the reference for that but its absolute value is less important than its relationship to the detection limit. "
   ]
  },
  {
   "cell_type": "code",
   "execution_count": 224,
   "metadata": {},
   "outputs": [],
   "source": [
    "# set the number of cells to simulate\n",
    "n_cells = 100000\n",
    "\n",
    "# set the lambda values for each virus (20 has been reported from here but the absolute value is not important rather its relationship to the detection limit)\n",
    "lam_A = 20\n",
    "\n",
    "# set the detection limits for each virus\n",
    "detect_limit_A = 12\n",
    "\n",
    "# generate the number of virions per cell for each virus\n",
    "virions_A = np.random.poisson(lam=lam_A, size=n_cells)\n",
    "\n"
   ]
  },
  {
   "cell_type": "code",
   "execution_count": 225,
   "metadata": {},
   "outputs": [
    {
     "name": "stdout",
     "output_type": "stream",
     "text": [
      "Percentage of cells with detected virus = 97.845 %\n"
     ]
    },
    {
     "data": {
      "image/png": "[encoded data removed]",
      "text/plain": [
       "<Figure size 432x288 with 1 Axes>"
      ]
     },
     "metadata": {
      "needs_background": "light"
     },
     "output_type": "display_data"
    }
   ],
   "source": [
    "sns.histplot(virions_A)\n",
    "plt.axvline(detect_limit_A,c=\"m\")\n",
    "plt.xlabel(\"Number of Virions Per Cell\")\n",
    "plt.title(\"One AAV Situation\")\n",
    "print(f\"Percentage of cells with detected virus = {np.count_nonzero(virions_A>=detect_limit_A)/n_cells*100}\",\"%\")"
   ]
  },
  {
   "cell_type": "markdown",
   "metadata": {},
   "source": [
    "## Two virus situation:"
   ]
  },
  {
   "cell_type": "markdown",
   "metadata": {},
   "source": [
    "Let's assume that the cell doesn't care which of the two AAVs it receives, however, the total number of viral particples that can enter a cell does not change, neither does the detection limit of your method:"
   ]
  },
  {
   "cell_type": "code",
   "execution_count": 237,
   "metadata": {},
   "outputs": [],
   "source": [
    "def dual_infection(n_cells,lam_A,lam_B,detect_limit_A,detect_limit_B):\n",
    "    # generate the number of virions per cell for each virus\n",
    "    virions_A = np.random.poisson(lam=lam_A, size=n_cells)\n",
    "    virions_B = np.random.poisson(lam=lam_B, size=n_cells)\n",
    "\n",
    "    #observe your cells: \n",
    "    results = np.zeros(n_cells)\n",
    "    results[(virions_A >= detect_limit_A) & (virions_B >= detect_limit_B)] = 3\n",
    "    results[(virions_A >= detect_limit_A) & (virions_B < detect_limit_B)] = 2\n",
    "    results[(virions_A < detect_limit_A) & (virions_B >= detect_limit_B)] = 1\n",
    "\n",
    "    return results, virions_A, virions_B"
   ]
  },
  {
   "cell_type": "code",
   "execution_count": 238,
   "metadata": {},
   "outputs": [],
   "source": [
    "# set the number of cells to simulate\n",
    "n_cells = 100000\n",
    "\n",
    "# set the lambda values for each virus \n",
    "#Note that I have halved this to (roughly) make sure that the overall number of virions per cell is the same as in the one virus situation: \n",
    "lam_A = 10\n",
    "lam_B = 10\n",
    "\n",
    "# assume the detection limits are unchanged and that they are the same for both viruses (clearly that may not always be true): \n",
    "detect_limit_A = 12\n",
    "detect_limit_B = 12\n",
    "\n",
    "\n",
    "results, virions_A, virions_B =dual_infection(n_cells,lam_A,lam_B,detect_limit_A,detect_limit_B)\n",
    "\n",
    "\n",
    "#report the percentage expressing both:\n",
    "perceboth=np.count_nonzero(results==3)/np.count_nonzero(results)*100\n",
    "\n",
    "#report the percentage expressing only one or the other:\n",
    "perconeorother=(np.count_nonzero(results==2)+np.count_nonzero(results==1))/np.count_nonzero(results)*100\n",
    "\n",
    "#report the percentage of cells infected:\n",
    "infected=np.count_nonzero(results)/n_cells*100"
   ]
  },
  {
   "cell_type": "markdown",
   "metadata": {},
   "source": [
    "## Result 1:"
   ]
  },
  {
   "cell_type": "code",
   "execution_count": 240,
   "metadata": {},
   "outputs": [
    {
     "name": "stdout",
     "output_type": "stream",
     "text": [
      "Percentage of cells with detected virus = 51.148 %\n"
     ]
    },
    {
     "data": {
      "image/png": "[encoded data removed]",
      "text/plain": [
       "<Figure size 432x288 with 1 Axes>"
      ]
     },
     "metadata": {
      "needs_background": "light"
     },
     "output_type": "display_data"
    }
   ],
   "source": [
    "sns.histplot(virions_A+virions_B)\n",
    "plt.axvline(detect_limit_A,c=\"m\")\n",
    "plt.title(\"Two AAV Situation\")\n",
    "print(f\"Percentage of cells with detected virus = {infected}\",\"%\")"
   ]
  },
  {
   "cell_type": "markdown",
   "metadata": {},
   "source": [
    "Although the distribution of virions per cell is effectively identical to the single AAV situation and the detection limit is identical, as a consequence of where I have chosen to put the detection limit relative to the lambda values, here we are only able to detect viral expression in around 50% of cells. \n",
    "\n",
    "Importantly, you would not be able to increase this by increasing the dose or titre of the AAVs because we are assuming that the cells are not able to take on more virus per individual cell."
   ]
  },
  {
   "cell_type": "markdown",
   "metadata": {},
   "source": [
    "## Result 2:"
   ]
  },
  {
   "cell_type": "code",
   "execution_count": 241,
   "metadata": {},
   "outputs": [
    {
     "name": "stdout",
     "output_type": "stream",
     "text": [
      "Percentage of cells with both AAVs detected = 17.693751466332994 %\n",
      "Percentage of cells with only on or other of the AAVs detected = 82.306248533667 %\n"
     ]
    }
   ],
   "source": [
    "print(f\"Percentage of cells with both AAVs detected = {perceboth}\",\"%\")\n",
    "print(f\"Percentage of cells with only on or other of the AAVs detected = {perconeorother}\",\"%\")"
   ]
  },
  {
   "cell_type": "markdown",
   "metadata": {},
   "source": [
    "Again, due to the relationship between the values I have chosen for the detecion limit and lambda, I can only detect both viruses in fewer than 20% of the cells that are co-transduced.\n",
    "\n",
    "I can run the function above in a loop to see what the impact of the detection limit is on co-transduced cells (keeping lambda fixed at 20):"
   ]
  },
  {
   "cell_type": "code",
   "execution_count": 244,
   "metadata": {},
   "outputs": [],
   "source": [
    "# set the number of cells to simulate\n",
    "n_cells = 100000\n",
    "\n",
    "# set the lambda values for each virus \n",
    "#Note that I have halved this to (roughly) make sure that the overall number of virions per cell is the same as in the one virus situation: \n",
    "lam_A = 10\n",
    "lam_B = 10\n",
    "\n",
    "data=[]\n",
    "for detect_limit in range(1,21):\n",
    "    results,v_A, V_B =dual_infection(n_cells,lam_A,lam_B,detect_limit,detect_limit)\n",
    "    perceboth=np.count_nonzero(results==3)/np.count_nonzero(results)*100\n",
    "    data.append(perceboth)"
   ]
  },
  {
   "cell_type": "code",
   "execution_count": 245,
   "metadata": {},
   "outputs": [
    {
     "name": "stderr",
     "output_type": "stream",
     "text": [
      "C:\\Users\\Public\\Anaconda3\\lib\\site-packages\\seaborn\\_decorators.py:36: FutureWarning: Pass the following variables as keyword args: x, y. From version 0.12, the only valid positional argument will be `data`, and passing other arguments without an explicit keyword will result in an error or misinterpretation.\n",
      "  warnings.warn(\n"
     ]
    },
    {
     "data": {
      "text/plain": [
       "Text(0, 0.5, 'Percentage of cells co-transduced')"
      ]
     },
     "execution_count": 245,
     "metadata": {},
     "output_type": "execute_result"
    },
    {
     "data": {
      "image/png": "[encoded data removed]",
      "text/plain": [
       "<Figure size 432x288 with 1 Axes>"
      ]
     },
     "metadata": {
      "needs_background": "light"
     },
     "output_type": "display_data"
    }
   ],
   "source": [
    "sns.scatterplot(range(1,21),data)\n",
    "plt.xlabel(\"No. virions needed to detect expression\")\n",
    "plt.ylabel(\"Percentage of cells co-transduced\")"
   ]
  },
  {
   "cell_type": "markdown",
   "metadata": {},
   "source": [
    "The result is this sigmoidal curve, where the ability to get co-transduction rapidly declines when the detction limit is around 25% of lambda and falls to near zero co-transduction when when the detection limit is around 75% of lambda. "
   ]
  },
  {
   "cell_type": "markdown",
   "metadata": {},
   "source": [
    "## Conclusion:"
   ]
  },
  {
   "cell_type": "markdown",
   "metadata": {},
   "source": [
    "The interesting thing to come from this very simple simulation is that the only assumption needed to reproduce difficulties in co-transduction of a cell with two AAVs (or any virus for that matter) is that there is some limit to how many copies of a virus can successfully transduce a cell. Following from that, how difficult it might be to get co-transduction will really just depending on the sensitivity of your detection method and its relation to how many copies of a virus can transduce a cell. There is no need to think they outcompete - actually, I explicitly assume no competition whatsoever here (i.e. totally independent of each other and treated exactly the same by the cells).\n",
    "\n",
    "Syd xx"
   ]
  },
  {
   "cell_type": "code",
   "execution_count": null,
   "metadata": {},
   "outputs": [],
   "source": []
  }
 ],
 "metadata": {
  "kernelspec": {
   "display_name": "Python 3",
   "language": "python",
   "name": "python3"
  },
  "language_info": {
   "codemirror_mode": {
    "name": "ipython",
    "version": 3
   },
   "file_extension": ".py",
   "mimetype": "text/x-python",
   "name": "python",
   "nbconvert_exporter": "python",
   "pygments_lexer": "ipython3",
   "version": "3.8.3"
  }
 },
 "nbformat": 4,
 "nbformat_minor": 4
}
